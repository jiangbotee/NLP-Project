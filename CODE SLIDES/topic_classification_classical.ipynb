{
  "nbformat": 4,
  "nbformat_minor": 0,
  "metadata": {
    "colab": {
      "name": "topic_classification_classical.ipynb",
      "provenance": [],
      "collapsed_sections": []
    },
    "kernelspec": {
      "name": "python3",
      "display_name": "Python 3"
    },
    "accelerator": "GPU"
  },
  "cells": [
    {
      "cell_type": "markdown",
      "metadata": {
        "id": "JxSORa2wzTek",
        "colab_type": "text"
      },
      "source": [
        "# News Article Topic Classification\n",
        "\n",
        "---\n",
        "With the decline of newspaper circulation, most news vendors turn to online distribution.  \n",
        "With thousands of posts for a single publisher each day, manually inspecting each classification is a daunting task.  \n",
        "* Difficult to find article of choice without proper classification.\n"
      ]
    },
    {
      "cell_type": "code",
      "metadata": {
        "id": "hnP7hFlMW_yx",
        "colab_type": "code",
        "colab": {}
      },
      "source": [
        "# Libraries\n",
        "from google.colab import drive\n",
        "\n",
        "import os\n",
        "import time\n",
        "import pickle\n",
        "import numpy as np\n",
        "import pandas as pd\n",
        "import matplotlib.pyplot as plt\n",
        "from functools import partial\n",
        "from sklearn.preprocessing import LabelEncoder\n",
        "from sklearn.pipeline import Pipeline\n",
        "from sklearn.model_selection import train_test_split\n",
        "from sklearn.feature_extraction.text import CountVectorizer, TfidfTransformer\n",
        "from sklearn.metrics import accuracy_score, confusion_matrix, classification_report\n",
        "from sklearn.naive_bayes import MultinomialNB\n",
        "from sklearn.svm import LinearSVC\n",
        "from lightgbm import LGBMClassifier\n"
      ],
      "execution_count": 0,
      "outputs": []
    },
    {
      "cell_type": "code",
      "metadata": {
        "id": "3dgbn400Yvbt",
        "colab_type": "code",
        "outputId": "a6502bf4-9ffe-4fca-e7cc-57e36a85c979",
        "colab": {
          "base_uri": "https://localhost:8080/",
          "height": 121
        }
      },
      "source": [
        "# Mount the local gdrive\n",
        "drive.mount('/content/drive')"
      ],
      "execution_count": 0,
      "outputs": [
        {
          "output_type": "stream",
          "text": [
            "Go to this URL in a browser: https://accounts.google.com/o/oauth2/auth?client_id=947318989803-6bn6qk8qdgf4n4g3pfee6491hc0brc4i.apps.googleusercontent.com&redirect_uri=urn%3aietf%3awg%3aoauth%3a2.0%3aoob&response_type=code&scope=email%20https%3a%2f%2fwww.googleapis.com%2fauth%2fdocs.test%20https%3a%2f%2fwww.googleapis.com%2fauth%2fdrive%20https%3a%2f%2fwww.googleapis.com%2fauth%2fdrive.photos.readonly%20https%3a%2f%2fwww.googleapis.com%2fauth%2fpeopleapi.readonly\n",
            "\n",
            "Enter your authorization code:\n",
            "··········\n",
            "Mounted at /content/drive\n"
          ],
          "name": "stdout"
        }
      ]
    },
    {
      "cell_type": "markdown",
      "metadata": {
        "id": "CJTxDQvS1-fH",
        "colab_type": "text"
      },
      "source": [
        "### Helper functions for data preprocessing"
      ]
    },
    {
      "cell_type": "code",
      "metadata": {
        "id": "JAR7i_xlZfgv",
        "colab_type": "code",
        "colab": {}
      },
      "source": [
        "# read_data\n",
        "# wraps for open, pandas' read_csv returns a dataframe of from the filename\n",
        "def read_data(filename):\n",
        "  with open(filename) as fp:\n",
        "    return pd.read_csv(fp)"
      ],
      "execution_count": 0,
      "outputs": []
    },
    {
      "cell_type": "code",
      "metadata": {
        "id": "_ewh7fyR1ecD",
        "colab_type": "code",
        "colab": {}
      },
      "source": [
        "# show_dataDist\n",
        "# prints the precentages of each category in the dataset and shows a pie chart of the category data\n",
        "def show_dataDist(data_df, txt_col='text', lbl_col='label'):\n",
        "  counts = np.bincount(le.fit_transform(data_df[lbl_col]))\n",
        "  percents = np.clip(counts / counts.sum(), a_min=0, a_max=1)\n",
        "  percents[0] = 1 - percents[1:].sum()\n",
        "  labels = le.inverse_transform(range(len(percents)))\n",
        "  plt.pie(percents, labels=labels)\n",
        "  print(dict(zip(labels, percents)))"
      ],
      "execution_count": 0,
      "outputs": []
    },
    {
      "cell_type": "code",
      "metadata": {
        "id": "M3MZuHq1fyqN",
        "colab_type": "code",
        "colab": {}
      },
      "source": [
        "# reLabel\n",
        "# renames the keys in a dictionary dataset of examples \n",
        "# returns the re-keyed dictionary\n",
        "def reLabel(dict_list, txt_col='text', lbl_col='label'):\n",
        "  for dict_element in dict_list:\n",
        "    dict_element['label'] = dict_element.pop(lbl_col)\n",
        "    dict_element['text'] = dict_element.pop(txt_col)\n",
        "  return dict_list"
      ],
      "execution_count": 0,
      "outputs": []
    },
    {
      "cell_type": "code",
      "metadata": {
        "id": "UnrAcXD-EZx-",
        "colab_type": "code",
        "colab": {}
      },
      "source": [
        "# classical_method\n",
        "# wraps a machine learning natural language processing pipeline as a generalizable function that takes an sklearn classifier\n",
        "# and DataFrame dataset as input and shows the prediction metrics execution time for training and testing.\n",
        "# returns the trained classifier so other predictions can be made.\n",
        "def classical_method(data_df, classifier=MultinomialNB(), txt_col='text', lbl_col='label'):\n",
        "  # Extract the data and labels to learn\n",
        "  X = data_df[txt_col]\n",
        "  y = data_df[lbl_col]\n",
        "\n",
        "  # Number the string labels\n",
        "  y = le.fit_transform(y)\n",
        "\n",
        "  # Split the dataset\n",
        "  X_train, X_test, y_train, y_test = train_test_split(X, y, test_size=0.3, random_state = 42)\n",
        "  \n",
        "  # Set up data pipeline\n",
        "  pipe = Pipeline([('vect', CountVectorizer()),\n",
        "                ('tfidf', TfidfTransformer()),\n",
        "                ('clf', classifier),\n",
        "              ])\n",
        "  \n",
        "  # Time training execution\n",
        "  start = time.time()\n",
        "  pipe.fit(X_train, y_train)\n",
        "  train_time = time.time() - start\n",
        "  print(\"Trained in %.3f seconds\" % train_time)\n",
        "  \n",
        "  # Predict the labels on the test data\n",
        "  y_pred = pipe.predict(X_test)\n",
        "  \n",
        "  # Output the prediction metrics\n",
        "  print(\"Finished prediction in %.3f seconds\" % (time.time() - start - train_time))\n",
        "  print('accuracy %s' % accuracy_score(y_pred, y_test))\n",
        "  print(classification_report(y_test, y_pred,target_names=le.classes_))\n",
        "\n",
        "  # return the trained classifier so other predictions can be made.\n",
        "  return pipe"
      ],
      "execution_count": 0,
      "outputs": []
    },
    {
      "cell_type": "markdown",
      "metadata": {
        "id": "Sl37W3FePO_Q",
        "colab_type": "text"
      },
      "source": [
        "### Load the datasets in DataFrame"
      ]
    },
    {
      "cell_type": "code",
      "metadata": {
        "id": "P1ug5ioenPI0",
        "colab_type": "code",
        "colab": {}
      },
      "source": [
        "# Directory paths in gdrive\n",
        "DIR_PATH = '/content/drive/My Drive/Colab Notebooks/'\n",
        "bbc_filename = os.path.join(DIR_PATH, 'bbc-text.csv')\n",
        "sports_filename = os.path.join(DIR_PATH, 'bbc-sport-fulltext.csv')\n",
        "uciNews_filename = os.path.join(DIR_PATH, 'uci-news-aggregator.csv')\n",
        "\n",
        "# Load the DataFrames\n",
        "bbc_data = read_data(bbc_filename)\n",
        "uciNews_data = read_data(uciNews_filename)\n",
        "sports_data = read_data(sports_filename)"
      ],
      "execution_count": 0,
      "outputs": []
    },
    {
      "cell_type": "code",
      "metadata": {
        "id": "QXPblE-92MK1",
        "colab_type": "code",
        "colab": {}
      },
      "source": [
        "# Initialize sklearn's LabelEncoder to transform string categories to integers\n",
        "le = LabelEncoder()"
      ],
      "execution_count": 0,
      "outputs": []
    },
    {
      "cell_type": "markdown",
      "metadata": {
        "id": "GwNlb9Ea5TYC",
        "colab_type": "text"
      },
      "source": [
        "## Let's take a look at the data"
      ]
    },
    {
      "cell_type": "code",
      "metadata": {
        "id": "9vknv4FGvjpo",
        "colab_type": "code",
        "outputId": "1d165139-fbc9-400c-e4e8-f1d55540bcac",
        "colab": {
          "base_uri": "https://localhost:8080/",
          "height": 296
        }
      },
      "source": [
        "# UCI News dataset\n",
        "print('%d examples' % uciNews_data.shape[0])\n",
        "uciNews_data.head()"
      ],
      "execution_count": 0,
      "outputs": [
        {
          "output_type": "stream",
          "text": [
            "422419 examples\n"
          ],
          "name": "stdout"
        },
        {
          "output_type": "execute_result",
          "data": {
            "text/html": [
              "<div>\n",
              "<style scoped>\n",
              "    .dataframe tbody tr th:only-of-type {\n",
              "        vertical-align: middle;\n",
              "    }\n",
              "\n",
              "    .dataframe tbody tr th {\n",
              "        vertical-align: top;\n",
              "    }\n",
              "\n",
              "    .dataframe thead th {\n",
              "        text-align: right;\n",
              "    }\n",
              "</style>\n",
              "<table border=\"1\" class=\"dataframe\">\n",
              "  <thead>\n",
              "    <tr style=\"text-align: right;\">\n",
              "      <th></th>\n",
              "      <th>ID</th>\n",
              "      <th>TITLE</th>\n",
              "      <th>URL</th>\n",
              "      <th>PUBLISHER</th>\n",
              "      <th>CATEGORY</th>\n",
              "      <th>STORY</th>\n",
              "      <th>HOSTNAME</th>\n",
              "      <th>TIMESTAMP</th>\n",
              "    </tr>\n",
              "  </thead>\n",
              "  <tbody>\n",
              "    <tr>\n",
              "      <th>0</th>\n",
              "      <td>1</td>\n",
              "      <td>Fed official says weak data caused by weather,...</td>\n",
              "      <td>http://www.latimes.com/business/money/la-fi-mo...</td>\n",
              "      <td>Los Angeles Times</td>\n",
              "      <td>b</td>\n",
              "      <td>ddUyU0VZz0BRneMioxUPQVP6sIxvM</td>\n",
              "      <td>www.latimes.com</td>\n",
              "      <td>1394470370698</td>\n",
              "    </tr>\n",
              "    <tr>\n",
              "      <th>1</th>\n",
              "      <td>2</td>\n",
              "      <td>Fed's Charles Plosser sees high bar for change...</td>\n",
              "      <td>http://www.livemint.com/Politics/H2EvwJSK2VE6O...</td>\n",
              "      <td>Livemint</td>\n",
              "      <td>b</td>\n",
              "      <td>ddUyU0VZz0BRneMioxUPQVP6sIxvM</td>\n",
              "      <td>www.livemint.com</td>\n",
              "      <td>1394470371207</td>\n",
              "    </tr>\n",
              "    <tr>\n",
              "      <th>2</th>\n",
              "      <td>3</td>\n",
              "      <td>US open: Stocks fall after Fed official hints ...</td>\n",
              "      <td>http://www.ifamagazine.com/news/us-open-stocks...</td>\n",
              "      <td>IFA Magazine</td>\n",
              "      <td>b</td>\n",
              "      <td>ddUyU0VZz0BRneMioxUPQVP6sIxvM</td>\n",
              "      <td>www.ifamagazine.com</td>\n",
              "      <td>1394470371550</td>\n",
              "    </tr>\n",
              "    <tr>\n",
              "      <th>3</th>\n",
              "      <td>4</td>\n",
              "      <td>Fed risks falling 'behind the curve', Charles ...</td>\n",
              "      <td>http://www.ifamagazine.com/news/fed-risks-fall...</td>\n",
              "      <td>IFA Magazine</td>\n",
              "      <td>b</td>\n",
              "      <td>ddUyU0VZz0BRneMioxUPQVP6sIxvM</td>\n",
              "      <td>www.ifamagazine.com</td>\n",
              "      <td>1394470371793</td>\n",
              "    </tr>\n",
              "    <tr>\n",
              "      <th>4</th>\n",
              "      <td>5</td>\n",
              "      <td>Fed's Plosser: Nasty Weather Has Curbed Job Gr...</td>\n",
              "      <td>http://www.moneynews.com/Economy/federal-reser...</td>\n",
              "      <td>Moneynews</td>\n",
              "      <td>b</td>\n",
              "      <td>ddUyU0VZz0BRneMioxUPQVP6sIxvM</td>\n",
              "      <td>www.moneynews.com</td>\n",
              "      <td>1394470372027</td>\n",
              "    </tr>\n",
              "  </tbody>\n",
              "</table>\n",
              "</div>"
            ],
            "text/plain": [
              "   ID  ...      TIMESTAMP\n",
              "0   1  ...  1394470370698\n",
              "1   2  ...  1394470371207\n",
              "2   3  ...  1394470371550\n",
              "3   4  ...  1394470371793\n",
              "4   5  ...  1394470372027\n",
              "\n",
              "[5 rows x 8 columns]"
            ]
          },
          "metadata": {
            "tags": []
          },
          "execution_count": 9
        }
      ]
    },
    {
      "cell_type": "code",
      "metadata": {
        "id": "PGuNwg2S5qPF",
        "colab_type": "code",
        "colab": {}
      },
      "source": [
        "# Truncate the UCI dataset to only those columns we need to predict topic categories\n",
        "uciNews_dataset = uciNews_data[['TITLE', 'CATEGORY']]"
      ],
      "execution_count": 0,
      "outputs": []
    },
    {
      "cell_type": "code",
      "metadata": {
        "colab_type": "code",
        "id": "t384bHox95L-",
        "outputId": "54653a14-03c0-4193-d2a1-7589d27eb369",
        "colab": {
          "base_uri": "https://localhost:8080/",
          "height": 265
        }
      },
      "source": [
        "# Show the data distribution of the UCI News dataset\n",
        "show_dataDist(uciNews_data, txt_col='TITLE', lbl_col='CATEGORY')"
      ],
      "execution_count": 0,
      "outputs": [
        {
          "output_type": "stream",
          "text": [
            "{'b': 0.27453073843742826, 'e': 0.36094257123850965, 'm': 0.10804201515556829, 't': 0.2564846751684938}\n"
          ],
          "name": "stdout"
        },
        {
          "output_type": "display_data",
          "data": {
            "image/png": "[encoded data removed]",
            "text/plain": [
              "<Figure size 432x288 with 1 Axes>"
            ]
          },
          "metadata": {
            "tags": []
          }
        }
      ]
    },
    {
      "cell_type": "code",
      "metadata": {
        "id": "48tsinL8u5-T",
        "colab_type": "code",
        "outputId": "44378a0d-505d-42f2-b5fc-52e6978b5612",
        "colab": {
          "base_uri": "https://localhost:8080/",
          "height": 212
        }
      },
      "source": [
        "# BBCNews dataset\n",
        "print('%d examples' % bbc_data.shape[0])\n",
        "bbc_data.head()"
      ],
      "execution_count": 0,
      "outputs": [
        {
          "output_type": "stream",
          "text": [
            "2225 examples\n"
          ],
          "name": "stdout"
        },
        {
          "output_type": "execute_result",
          "data": {
            "text/html": [
              "<div>\n",
              "<style scoped>\n",
              "    .dataframe tbody tr th:only-of-type {\n",
              "        vertical-align: middle;\n",
              "    }\n",
              "\n",
              "    .dataframe tbody tr th {\n",
              "        vertical-align: top;\n",
              "    }\n",
              "\n",
              "    .dataframe thead th {\n",
              "        text-align: right;\n",
              "    }\n",
              "</style>\n",
              "<table border=\"1\" class=\"dataframe\">\n",
              "  <thead>\n",
              "    <tr style=\"text-align: right;\">\n",
              "      <th></th>\n",
              "      <th>category</th>\n",
              "      <th>text</th>\n",
              "    </tr>\n",
              "  </thead>\n",
              "  <tbody>\n",
              "    <tr>\n",
              "      <th>0</th>\n",
              "      <td>tech</td>\n",
              "      <td>tv future in the hands of viewers with home th...</td>\n",
              "    </tr>\n",
              "    <tr>\n",
              "      <th>1</th>\n",
              "      <td>business</td>\n",
              "      <td>worldcom boss  left books alone  former worldc...</td>\n",
              "    </tr>\n",
              "    <tr>\n",
              "      <th>2</th>\n",
              "      <td>sport</td>\n",
              "      <td>tigers wary of farrell  gamble  leicester say ...</td>\n",
              "    </tr>\n",
              "    <tr>\n",
              "      <th>3</th>\n",
              "      <td>sport</td>\n",
              "      <td>yeading face newcastle in fa cup premiership s...</td>\n",
              "    </tr>\n",
              "    <tr>\n",
              "      <th>4</th>\n",
              "      <td>entertainment</td>\n",
              "      <td>ocean s twelve raids box office ocean s twelve...</td>\n",
              "    </tr>\n",
              "  </tbody>\n",
              "</table>\n",
              "</div>"
            ],
            "text/plain": [
              "        category                                               text\n",
              "0           tech  tv future in the hands of viewers with home th...\n",
              "1       business  worldcom boss  left books alone  former worldc...\n",
              "2          sport  tigers wary of farrell  gamble  leicester say ...\n",
              "3          sport  yeading face newcastle in fa cup premiership s...\n",
              "4  entertainment  ocean s twelve raids box office ocean s twelve..."
            ]
          },
          "metadata": {
            "tags": []
          },
          "execution_count": 12
        }
      ]
    },
    {
      "cell_type": "code",
      "metadata": {
        "id": "UwlY2TnK_RYE",
        "colab_type": "code",
        "outputId": "02a8cc1a-8d70-4d7d-d2e8-503a524f9396",
        "colab": {
          "base_uri": "https://localhost:8080/",
          "height": 265
        }
      },
      "source": [
        "# Show the data distribution of the BBCNews dataset\n",
        "show_dataDist(bbc_data, lbl_col='category')"
      ],
      "execution_count": 0,
      "outputs": [
        {
          "output_type": "stream",
          "text": [
            "{'business': 0.22921348314606738, 'entertainment': 0.17348314606741572, 'politics': 0.18741573033707865, 'sport': 0.22966292134831462, 'tech': 0.1802247191011236}\n"
          ],
          "name": "stdout"
        },
        {
          "output_type": "display_data",
          "data": {
            "image/png": "[encoded data removed]",
            "text/plain": [
              "<Figure size 432x288 with 1 Axes>"
            ]
          },
          "metadata": {
            "tags": []
          }
        }
      ]
    },
    {
      "cell_type": "code",
      "metadata": {
        "id": "1bnfdSVrpmBU",
        "colab_type": "code",
        "outputId": "3bfbadef-7832-49f8-cea3-02a027ea3271",
        "colab": {
          "base_uri": "https://localhost:8080/",
          "height": 212
        }
      },
      "source": [
        "# BBCSports dataset\n",
        "print('%d examples' % sports_data.shape[0])\n",
        "sports_data.head()"
      ],
      "execution_count": 0,
      "outputs": [
        {
          "output_type": "stream",
          "text": [
            "737 examples\n"
          ],
          "name": "stdout"
        },
        {
          "output_type": "execute_result",
          "data": {
            "text/html": [
              "<div>\n",
              "<style scoped>\n",
              "    .dataframe tbody tr th:only-of-type {\n",
              "        vertical-align: middle;\n",
              "    }\n",
              "\n",
              "    .dataframe tbody tr th {\n",
              "        vertical-align: top;\n",
              "    }\n",
              "\n",
              "    .dataframe thead th {\n",
              "        text-align: right;\n",
              "    }\n",
              "</style>\n",
              "<table border=\"1\" class=\"dataframe\">\n",
              "  <thead>\n",
              "    <tr style=\"text-align: right;\">\n",
              "      <th></th>\n",
              "      <th>Unnamed: 0</th>\n",
              "      <th>label</th>\n",
              "      <th>text</th>\n",
              "    </tr>\n",
              "  </thead>\n",
              "  <tbody>\n",
              "    <tr>\n",
              "      <th>0</th>\n",
              "      <td>0</td>\n",
              "      <td>athletics</td>\n",
              "      <td>Claxton hunting first major medal\\n\\nBritish h...</td>\n",
              "    </tr>\n",
              "    <tr>\n",
              "      <th>1</th>\n",
              "      <td>1</td>\n",
              "      <td>athletics</td>\n",
              "      <td>O'Sullivan could run in Worlds\\n\\nSonia O'Sull...</td>\n",
              "    </tr>\n",
              "    <tr>\n",
              "      <th>2</th>\n",
              "      <td>2</td>\n",
              "      <td>athletics</td>\n",
              "      <td>Greene sets sights on world title\\n\\nMaurice G...</td>\n",
              "    </tr>\n",
              "    <tr>\n",
              "      <th>3</th>\n",
              "      <td>3</td>\n",
              "      <td>athletics</td>\n",
              "      <td>IAAF launches fight against drugs\\n\\nThe IAAF ...</td>\n",
              "    </tr>\n",
              "    <tr>\n",
              "      <th>4</th>\n",
              "      <td>4</td>\n",
              "      <td>athletics</td>\n",
              "      <td>Dibaba breaks 5,000m world record\\n\\nEthiopia'...</td>\n",
              "    </tr>\n",
              "  </tbody>\n",
              "</table>\n",
              "</div>"
            ],
            "text/plain": [
              "   Unnamed: 0      label                                               text\n",
              "0           0  athletics  Claxton hunting first major medal\\n\\nBritish h...\n",
              "1           1  athletics  O'Sullivan could run in Worlds\\n\\nSonia O'Sull...\n",
              "2           2  athletics  Greene sets sights on world title\\n\\nMaurice G...\n",
              "3           3  athletics  IAAF launches fight against drugs\\n\\nThe IAAF ...\n",
              "4           4  athletics  Dibaba breaks 5,000m world record\\n\\nEthiopia'..."
            ]
          },
          "metadata": {
            "tags": []
          },
          "execution_count": 14
        }
      ]
    },
    {
      "cell_type": "code",
      "metadata": {
        "id": "HJR77oQlAFJL",
        "colab_type": "code",
        "outputId": "e2423341-0cb9-4313-dc96-b5b1fb990a05",
        "colab": {
          "base_uri": "https://localhost:8080/",
          "height": 265
        }
      },
      "source": [
        "show_dataDist(sports_data)"
      ],
      "execution_count": 0,
      "outputs": [
        {
          "output_type": "stream",
          "text": [
            "{'athletics': 0.1370420624151969, 'cricket': 0.16824966078697423, 'football': 0.35956580732700133, 'rugby': 0.1994572591587517, 'tennis': 0.13568521031207598}\n"
          ],
          "name": "stdout"
        },
        {
          "output_type": "display_data",
          "data": {
            "image/png": "[encoded data removed]",
            "text/plain": [
              "<Figure size 432x288 with 1 Axes>"
            ]
          },
          "metadata": {
            "tags": []
          }
        }
      ]
    },
    {
      "cell_type": "markdown",
      "metadata": {
        "id": "2osAIZHMLjFM",
        "colab_type": "text"
      },
      "source": [
        "# Predict"
      ]
    },
    {
      "cell_type": "code",
      "metadata": {
        "id": "iLPw-7HCHNNK",
        "colab_type": "code",
        "colab": {}
      },
      "source": [
        "# Initialize the classical prediction classifiers with partial from functools\n",
        "multinomial_bayes = partial(classical_method)\n",
        "svm_linear_kernel = partial(classical_method, classifier=LinearSVC(loss='hinge', penalty='l2', random_state=12345, max_iter=5))\n",
        "gradient_boost = partial(classical_method, classifier=LGBMClassifier(boosting_type='gbdt', objective='multiclass', random_state=12345))"
      ],
      "execution_count": 0,
      "outputs": []
    },
    {
      "cell_type": "markdown",
      "metadata": {
        "id": "eX3_NcaFNX-j",
        "colab_type": "text"
      },
      "source": [
        "### Multinomial Bayesian Classifier"
      ]
    },
    {
      "cell_type": "code",
      "metadata": {
        "id": "coXSmKzLH3Vs",
        "colab_type": "code",
        "outputId": "e2f076e4-3351-45d9-bd41-262672cef05d",
        "colab": {
          "base_uri": "https://localhost:8080/",
          "height": 269
        }
      },
      "source": [
        "print(\"Training Multinomial Bayesian Classifier on UCI News dataset\")\n",
        "mb_uci = multinomial_bayes(uciNews_data, txt_col='TITLE', lbl_col='CATEGORY')"
      ],
      "execution_count": 0,
      "outputs": [
        {
          "output_type": "stream",
          "text": [
            "Training Multinomial Bayesian Classifier on UCI News dataset\n",
            "Trained in 3.467 seconds\n",
            "Finished prediction in 1.396 seconds\n",
            "accuracy 0.9227309313006012\n",
            "              precision    recall  f1-score   support\n",
            "\n",
            "           b       0.89      0.91      0.90     34868\n",
            "           e       0.95      0.97      0.96     45630\n",
            "           m       0.97      0.84      0.90     13658\n",
            "           t       0.90      0.90      0.90     32570\n",
            "\n",
            "    accuracy                           0.92    126726\n",
            "   macro avg       0.93      0.91      0.92    126726\n",
            "weighted avg       0.92      0.92      0.92    126726\n",
            "\n"
          ],
          "name": "stdout"
        }
      ]
    },
    {
      "cell_type": "code",
      "metadata": {
        "id": "PH2dml1pM5FG",
        "colab_type": "code",
        "outputId": "231ba8c1-9074-4681-bf29-30341b2ed969",
        "colab": {
          "base_uri": "https://localhost:8080/",
          "height": 286
        }
      },
      "source": [
        "print(\"Training Multinomial Bayesian Classifier on BBCNews dataset\")\n",
        "mb_bbcNews = multinomial_bayes(bbc_data, lbl_col='category')"
      ],
      "execution_count": 0,
      "outputs": [
        {
          "output_type": "stream",
          "text": [
            "Training Multinomial Bayesian Classifier on BBCNews dataset\n",
            "Trained in 0.471 seconds\n",
            "Finished prediction in 0.188 seconds\n",
            "accuracy 0.9446107784431138\n",
            "               precision    recall  f1-score   support\n",
            "\n",
            "     business       0.96      0.95      0.96       164\n",
            "entertainment       1.00      0.83      0.91       113\n",
            "     politics       0.88      0.99      0.93       113\n",
            "        sport       0.92      1.00      0.96       146\n",
            "         tech       0.98      0.93      0.95       132\n",
            "\n",
            "     accuracy                           0.94       668\n",
            "    macro avg       0.95      0.94      0.94       668\n",
            " weighted avg       0.95      0.94      0.94       668\n",
            "\n"
          ],
          "name": "stdout"
        }
      ]
    },
    {
      "cell_type": "code",
      "metadata": {
        "id": "ImWbVka-NEum",
        "colab_type": "code",
        "outputId": "3a8bde36-69a3-4142-f067-d03776adb92f",
        "colab": {
          "base_uri": "https://localhost:8080/",
          "height": 286
        }
      },
      "source": [
        "print(\"Training Multinomial Bayesian Classifier on BBCSports dataset\")\n",
        "mb_bbcSports = multinomial_bayes(sports_data)"
      ],
      "execution_count": 0,
      "outputs": [
        {
          "output_type": "stream",
          "text": [
            "Training Multinomial Bayesian Classifier on BBCSports dataset\n",
            "Trained in 0.146 seconds\n",
            "Finished prediction in 0.057 seconds\n",
            "accuracy 0.6216216216216216\n",
            "              precision    recall  f1-score   support\n",
            "\n",
            "   athletics       1.00      0.16      0.27        38\n",
            "     cricket       1.00      0.46      0.63        37\n",
            "    football       0.51      1.00      0.67        87\n",
            "       rugby       1.00      0.68      0.81        31\n",
            "      tennis       1.00      0.24      0.39        29\n",
            "\n",
            "    accuracy                           0.62       222\n",
            "   macro avg       0.90      0.51      0.55       222\n",
            "weighted avg       0.81      0.62      0.58       222\n",
            "\n"
          ],
          "name": "stdout"
        }
      ]
    },
    {
      "cell_type": "markdown",
      "metadata": {
        "colab_type": "text",
        "id": "o23f5wOPQDML"
      },
      "source": [
        "### SVM Linear Kernel Classifier"
      ]
    },
    {
      "cell_type": "code",
      "metadata": {
        "colab_type": "code",
        "outputId": "5b745690-65a3-49d9-9b15-b9ba81050e1c",
        "id": "KXRqtxOpQDMM",
        "colab": {
          "base_uri": "https://localhost:8080/",
          "height": 302
        }
      },
      "source": [
        "print(\"Training SVM Linear Kernel Classifier on UCI News dataset\")\n",
        "svm_uci = svm_linear_kernel(uciNews_data, txt_col='TITLE', lbl_col='CATEGORY')\n",
        "pickle.dump(svm_uci, open('svm_uci.sav', 'wb'))"
      ],
      "execution_count": 0,
      "outputs": [
        {
          "output_type": "stream",
          "text": [
            "Training SVM Linear Kernel Classifier on UCI News dataset\n"
          ],
          "name": "stdout"
        },
        {
          "output_type": "stream",
          "text": [
            "/usr/local/lib/python3.6/dist-packages/sklearn/svm/base.py:929: ConvergenceWarning: Liblinear failed to converge, increase the number of iterations.\n",
            "  \"the number of iterations.\", ConvergenceWarning)\n"
          ],
          "name": "stderr"
        },
        {
          "output_type": "stream",
          "text": [
            "Trained in 4.865 seconds\n",
            "Finished prediction in 1.390 seconds\n",
            "accuracy 0.9484162681691208\n",
            "              precision    recall  f1-score   support\n",
            "\n",
            "           b       0.92      0.94      0.93     34868\n",
            "           e       0.97      0.98      0.98     45630\n",
            "           m       0.97      0.92      0.95     13658\n",
            "           t       0.94      0.93      0.93     32570\n",
            "\n",
            "    accuracy                           0.95    126726\n",
            "   macro avg       0.95      0.94      0.95    126726\n",
            "weighted avg       0.95      0.95      0.95    126726\n",
            "\n"
          ],
          "name": "stdout"
        }
      ]
    },
    {
      "cell_type": "code",
      "metadata": {
        "colab_type": "code",
        "outputId": "44cb33d2-6a87-4ea1-d9a7-c05bb90efa14",
        "id": "_xUHKaWnQDMQ",
        "colab": {
          "base_uri": "https://localhost:8080/",
          "height": 319
        }
      },
      "source": [
        "print(\"Training SVM Linear Kernel Classifier on BBCNews dataset\")\n",
        "svm_bbcNews = svm_linear_kernel(bbc_data, lbl_col='category')\n",
        "pickle.dump(svm_bbcNews, open('svm_bbcNews.sav', 'wb'))"
      ],
      "execution_count": 0,
      "outputs": [
        {
          "output_type": "stream",
          "text": [
            "Training SVM Linear Kernel Classifier on BBCNews dataset\n"
          ],
          "name": "stdout"
        },
        {
          "output_type": "stream",
          "text": [
            "/usr/local/lib/python3.6/dist-packages/sklearn/svm/base.py:929: ConvergenceWarning: Liblinear failed to converge, increase the number of iterations.\n",
            "  \"the number of iterations.\", ConvergenceWarning)\n"
          ],
          "name": "stderr"
        },
        {
          "output_type": "stream",
          "text": [
            "Trained in 0.502 seconds\n",
            "Finished prediction in 0.188 seconds\n",
            "accuracy 0.9775449101796407\n",
            "               precision    recall  f1-score   support\n",
            "\n",
            "     business       0.99      0.94      0.96       164\n",
            "entertainment       0.99      0.98      0.99       113\n",
            "     politics       0.94      0.99      0.97       113\n",
            "        sport       0.98      1.00      0.99       146\n",
            "         tech       0.98      0.98      0.98       132\n",
            "\n",
            "     accuracy                           0.98       668\n",
            "    macro avg       0.98      0.98      0.98       668\n",
            " weighted avg       0.98      0.98      0.98       668\n",
            "\n"
          ],
          "name": "stdout"
        }
      ]
    },
    {
      "cell_type": "code",
      "metadata": {
        "colab_type": "code",
        "outputId": "8675b6c4-81d6-4ad1-d0cc-b9cf8374c465",
        "id": "6NJ0zndyQDMS",
        "colab": {
          "base_uri": "https://localhost:8080/",
          "height": 319
        }
      },
      "source": [
        "print(\"Training SVM Linear Kernel Classifier on BBCSports dataset\")\n",
        "svm_bbcSports = svm_linear_kernel(sports_data)\n",
        "pickle.dump(svm_bbcSports, open('svm_bbcSports.sav', 'wb'))"
      ],
      "execution_count": 0,
      "outputs": [
        {
          "output_type": "stream",
          "text": [
            "Training SVM Linear Kernel Classifier on BBCSports dataset\n",
            "Trained in 0.163 seconds\n",
            "Finished prediction in 0.056 seconds\n",
            "accuracy 0.990990990990991\n",
            "              precision    recall  f1-score   support\n",
            "\n",
            "   athletics       1.00      1.00      1.00        38\n",
            "     cricket       1.00      1.00      1.00        37\n",
            "    football       0.98      1.00      0.99        87\n",
            "       rugby       1.00      1.00      1.00        31\n",
            "      tennis       1.00      0.93      0.96        29\n",
            "\n",
            "    accuracy                           0.99       222\n",
            "   macro avg       1.00      0.99      0.99       222\n",
            "weighted avg       0.99      0.99      0.99       222\n",
            "\n"
          ],
          "name": "stdout"
        },
        {
          "output_type": "stream",
          "text": [
            "/usr/local/lib/python3.6/dist-packages/sklearn/svm/base.py:929: ConvergenceWarning: Liblinear failed to converge, increase the number of iterations.\n",
            "  \"the number of iterations.\", ConvergenceWarning)\n"
          ],
          "name": "stderr"
        }
      ]
    },
    {
      "cell_type": "markdown",
      "metadata": {
        "colab_type": "text",
        "id": "qOHMk5ZORGKe"
      },
      "source": [
        "### Gradient Boosting Classifier"
      ]
    },
    {
      "cell_type": "code",
      "metadata": {
        "colab_type": "code",
        "outputId": "d8d762a2-1c64-4e18-a276-90dd2792a20e",
        "id": "siOX_DjiRGKh",
        "colab": {
          "base_uri": "https://localhost:8080/",
          "height": 269
        }
      },
      "source": [
        "print(\"Training Gradient Boosting Classifier on UCI News dataset\")\n",
        "gb_uci = gradient_boost(uciNews_data, txt_col='TITLE', lbl_col='CATEGORY')"
      ],
      "execution_count": 0,
      "outputs": [
        {
          "output_type": "stream",
          "text": [
            "Training Gradient Boosting Classifier on UCI News dataset\n",
            "Trained in 219.546 seconds\n",
            "Finished prediction in 6.336 seconds\n",
            "accuracy 0.857724539557786\n",
            "              precision    recall  f1-score   support\n",
            "\n",
            "           b       0.88      0.80      0.84     34868\n",
            "           e       0.81      0.96      0.88     45630\n",
            "           m       0.91      0.75      0.83     13658\n",
            "           t       0.90      0.81      0.86     32570\n",
            "\n",
            "    accuracy                           0.86    126726\n",
            "   macro avg       0.88      0.83      0.85    126726\n",
            "weighted avg       0.86      0.86      0.86    126726\n",
            "\n"
          ],
          "name": "stdout"
        }
      ]
    },
    {
      "cell_type": "code",
      "metadata": {
        "colab_type": "code",
        "outputId": "59091eeb-9461-4483-c06a-866862e4b066",
        "id": "Uef1Cp7VRGKo",
        "colab": {
          "base_uri": "https://localhost:8080/",
          "height": 286
        }
      },
      "source": [
        "print(\"Training Gradient Boosting Classifier on BBCNews dataset\")\n",
        "gb_bbcNews = gradient_boost(bbc_data, lbl_col='category')"
      ],
      "execution_count": 0,
      "outputs": [
        {
          "output_type": "stream",
          "text": [
            "Training Gradient Boosting Classifier on BBCNews dataset\n",
            "Trained in 21.007 seconds\n",
            "Finished prediction in 0.223 seconds\n",
            "accuracy 0.9595808383233533\n",
            "               precision    recall  f1-score   support\n",
            "\n",
            "     business       0.94      0.94      0.94       164\n",
            "entertainment       0.99      0.96      0.97       113\n",
            "     politics       0.94      0.94      0.94       113\n",
            "        sport       0.98      1.00      0.99       146\n",
            "         tech       0.95      0.96      0.96       132\n",
            "\n",
            "     accuracy                           0.96       668\n",
            "    macro avg       0.96      0.96      0.96       668\n",
            " weighted avg       0.96      0.96      0.96       668\n",
            "\n"
          ],
          "name": "stdout"
        }
      ]
    },
    {
      "cell_type": "code",
      "metadata": {
        "colab_type": "code",
        "outputId": "7a6521da-1246-49fe-897f-805ad1eafc16",
        "id": "S1SajZZMRGKq",
        "colab": {
          "base_uri": "https://localhost:8080/",
          "height": 286
        }
      },
      "source": [
        "print(\"Training Gradient Boosting Classifier on BBCSports dataset\")\n",
        "gb_bbcSports = gradient_boost(sports_data)"
      ],
      "execution_count": 0,
      "outputs": [
        {
          "output_type": "stream",
          "text": [
            "Training Gradient Boosting Classifier on BBCSports dataset\n",
            "Trained in 3.816 seconds\n",
            "Finished prediction in 0.059 seconds\n",
            "accuracy 0.963963963963964\n",
            "              precision    recall  f1-score   support\n",
            "\n",
            "   athletics       1.00      0.95      0.97        38\n",
            "     cricket       1.00      1.00      1.00        37\n",
            "    football       0.94      0.98      0.96        87\n",
            "       rugby       0.97      0.94      0.95        31\n",
            "      tennis       0.93      0.93      0.93        29\n",
            "\n",
            "    accuracy                           0.96       222\n",
            "   macro avg       0.97      0.96      0.96       222\n",
            "weighted avg       0.96      0.96      0.96       222\n",
            "\n"
          ],
          "name": "stdout"
        }
      ]
    },
    {
      "cell_type": "markdown",
      "metadata": {
        "id": "X_fUANOBVser",
        "colab_type": "text"
      },
      "source": [
        "# Prediction Scratch Pad\n",
        "### Let's make some topic predictions using the best of the classifiers for each dataset.\n",
        "* SVM was the winner across the board"
      ]
    },
    {
      "cell_type": "code",
      "metadata": {
        "id": "YNdPuTAjcC1q",
        "colab_type": "code",
        "outputId": "62f4ab37-30f8-4034-b035-d2dde43143df",
        "colab": {
          "base_uri": "https://localhost:8080/",
          "height": 50
        }
      },
      "source": [
        "# UCI News Predictor\n",
        "test_str = \"\"\"Tory leader will address the United Conservative Party convention amid leadership concerns\"\"\"\n",
        "\n",
        "# Load the saved model with pickle\n",
        "svm_uci = pickle.load(open('svm_uci.sav', 'rb'))\n",
        "\n",
        "# Predict on the test string\n",
        "le.fit(uciNews_data.CATEGORY)\n",
        "pred = le.inverse_transform(svm_uci.predict([test_str,]))[0]\n",
        "\n",
        "# Show the prediction\n",
        "print(test_str)\n",
        "print('is a %s topic.' % pred)"
      ],
      "execution_count": 0,
      "outputs": [
        {
          "output_type": "stream",
          "text": [
            "Tory leader will address the United Conservative Party convention amid leadership concerns\n",
            "is a e topic.\n"
          ],
          "name": "stdout"
        }
      ]
    },
    {
      "cell_type": "code",
      "metadata": {
        "id": "pjjcR5tJW1Dg",
        "colab_type": "code",
        "outputId": "333a2051-a81d-43c0-d174-c489c7983cef",
        "colab": {
          "base_uri": "https://localhost:8080/",
          "height": 50
        }
      },
      "source": [
        "# BBCNews Predictor\n",
        "test_str = \"\"\"Tory leader will address the United Conservative Party convention amid leadership concerns\"\"\"\n",
        "\n",
        "# Load the saved model with pickle\n",
        "svm_bbcNews = pickle.load(open('svm_bbcNews.sav', 'rb'))\n",
        "\n",
        "# Predict on the test string\n",
        "le.fit(bbc_data.category)\n",
        "pred = le.inverse_transform(svm_bbcNews.predict([test_str,]))[0]\n",
        "\n",
        "# Show the prediction\n",
        "print(test_str)\n",
        "print('is a %s topic.' % pred)"
      ],
      "execution_count": 0,
      "outputs": [
        {
          "output_type": "stream",
          "text": [
            "Tory leader will address the United Conservative Party convention amid leadership concerns\n",
            "is a politics topic.\n"
          ],
          "name": "stdout"
        }
      ]
    },
    {
      "cell_type": "code",
      "metadata": {
        "id": "rvu6AGRuZZDQ",
        "colab_type": "code",
        "outputId": "173c1c87-8c37-4e32-bace-3cf307785834",
        "colab": {
          "base_uri": "https://localhost:8080/",
          "height": 50
        }
      },
      "source": [
        "# BBCSports Predictor\n",
        "test_str = \"Pakistan sends teenagers to compete against India after ITF moves fixture from Islamabad to Kazakhstan over security.\"\n",
        "\n",
        "# Load the saved model with pickle\n",
        "svm_bbcSports = pickle.load(open('svm_bbcSports.sav', 'rb'))\n",
        "\n",
        "# Predict on the test string\n",
        "le.fit(sports_data.label)\n",
        "pred = le.inverse_transform(svm_bbcSports.predict([test_str,]))[0]\n",
        "\n",
        "# Show the prediction\n",
        "print(test_str)\n",
        "print('is a %s topic.' % pred)"
      ],
      "execution_count": 0,
      "outputs": [
        {
          "output_type": "stream",
          "text": [
            "Pakistan sends teenagers to compete against India after ITF moves fixture from Islamabad to Kazakhstan over security.\n",
            "is a cricket topic.\n"
          ],
          "name": "stdout"
        }
      ]
    }
  ]
}